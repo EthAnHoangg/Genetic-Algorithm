{
 "cells": [
  {
   "cell_type": "markdown",
   "id": "1eb8c61f",
   "metadata": {},
   "source": [
    "# Genetic Algorithm (GA)"
   ]
  },
  {
   "cell_type": "markdown",
   "id": "42edbb59",
   "metadata": {},
   "source": [
    "> Genetic algorithms borrow inspiration from biological evolution, where fitter individuals are more likely to pass on their genes to the next generation."
   ]
  },
  {
   "cell_type": "markdown",
   "id": "0abcf755",
   "metadata": {},
   "source": [
    "Basic steps of implmenting GA algorithms:\n",
    "1. Randomly initialize populations p\n",
    "2. Determine fitness of population\n",
    "3. Until convergence repeat:\n",
    "    - Select parents from population\n",
    "    - Crossover and generate new population\n",
    "    - Perform mutation on new population\n",
    "    - Calculate fitness for new population"
   ]
  },
  {
   "cell_type": "code",
   "execution_count": 170,
   "id": "0d423d72",
   "metadata": {},
   "outputs": [],
   "source": [
    "import numpy as np\n",
    "import matplotlib.pyplot as plt"
   ]
  },
  {
   "cell_type": "code",
   "execution_count": 92,
   "id": "c30adc6e",
   "metadata": {},
   "outputs": [],
   "source": [
    "n_individual = 100 # Number of individual in population\n",
    "n_gen = 5 #Number of genes in each individual\n",
    "population = [np.random.randint(0, 2, size = n_gen) for _ in range (n_individual)]\n",
    "n_epoch  = 100 #the number of epochs or number of iteration."
   ]
  },
  {
   "cell_type": "code",
   "execution_count": 94,
   "id": "44bab5b6",
   "metadata": {},
   "outputs": [],
   "source": [
    "def selection(population, scores):\n",
    "    # randomly choose 2 individual\n",
    "    index1 = np.random.randint(0, len(population) - 1)\n",
    "    index2 = np.random.randint(0, len(population) - 1)\n",
    "    \n",
    "    while index1 == index2:\n",
    "        index2 = np.random.randint(0, len(population) - 1)\n",
    "    \n",
    "    if scores[index2] > scores[index1]:\n",
    "        return population[index2]\n",
    "    return population[index1]\n",
    "    #return the individual with higher score"
   ]
  },
  {
   "cell_type": "code",
   "execution_count": 95,
   "id": "a6086a64",
   "metadata": {},
   "outputs": [],
   "source": [
    "def crossover(individual1, individual2, r_cross): #r_cross is the rate cross, the probability that 2 individuals perform crossing over.\n",
    "    c1, c2 = individual1.copy(), individual2.copy() #create 2 children\n",
    "    prob = np.random.random(size = len(individual1)) #or n_gen\n",
    "    crossover_index = prob < r_cross\n",
    "    c1[crossover_index], c2[crossover_index] = c2[crossover_index], c1[crossover_index]\n",
    "    return c1, c2\n",
    "    "
   ]
  },
  {
   "cell_type": "code",
   "execution_count": 259,
   "id": "cfb1cc09",
   "metadata": {},
   "outputs": [],
   "source": [
    "def mutation(individual, r_mutate, g_range):\n",
    "    for i in range (len(individual)):\n",
    "        if np.random.random() < r_mutate:\n",
    "            while (individual[i] == np.random.randint(g_range[0], g_range[1] + 1)):\n",
    "                individual[i] = np.random.randint(g_range[0], g_range[1] + 1)\n",
    "            "
   ]
  },
  {
   "cell_type": "code",
   "execution_count": 260,
   "id": "446443c1",
   "metadata": {},
   "outputs": [],
   "source": [
    "def objective(individual):\n",
    "    return np.sum(individual)"
   ]
  },
  {
   "cell_type": "code",
   "execution_count": 261,
   "id": "8aa801b5",
   "metadata": {},
   "outputs": [],
   "source": [
    "def genetic_algorithm(objective, g_range, n_individual, n_gen, n_epoch, r_cross, r_mutate):\n",
    "    population = [np.random.randint(g_range[0], g_range[1] + 1, n_gen) for _ in range (n_individual)]\n",
    "\n",
    "    best_individual, best_eval = 0, objective(population[0])\n",
    "    loss = []\n",
    "    for epoch in range (n_epoch):\n",
    "        scores = [objective(c) for c in population]\n",
    "        for i in range (n_individual):\n",
    "            if scores[i] > best_eval:\n",
    "                best_individual, best_eval = population[i], scores[i]\n",
    "                print(\"> Epoch %d: New best f(%s) = %f\" % (epoch, population[i], scores[i]))\n",
    "        loss.append(best_eval)\n",
    "        selected = [selection(population, scores) for _ in range (n_individual)]\n",
    "        children = []\n",
    "        for i in range (0, n_individual, 2):\n",
    "\n",
    "            p1, p2 = selected[i], selected[i+1]\n",
    "\n",
    "            for c in crossover(p1, p2, r_cross):\n",
    "                mutation(c, r_mutate, g_range)\n",
    "                children.append(c)\n",
    "\n",
    "        population = children\n",
    "    return best_individual, best_eval, loss\n",
    "                "
   ]
  },
  {
   "cell_type": "markdown",
   "id": "9e2cabd1",
   "metadata": {},
   "source": [
    "## Apply genetic algorithm for one-max problem"
   ]
  },
  {
   "cell_type": "code",
   "execution_count": 262,
   "id": "a6193588",
   "metadata": {},
   "outputs": [],
   "source": [
    "def one_max(individual):\n",
    "    return np.sum (individual)"
   ]
  },
  {
   "cell_type": "code",
   "execution_count": 263,
   "id": "72924257",
   "metadata": {},
   "outputs": [
    {
     "name": "stdout",
     "output_type": "stream",
     "text": [
      "> Epoch 2: New best f([0 1 1 0 1 1 1 1]) = 6.000000\n",
      "> Epoch 4: New best f([1 1 1 0 1 1 1 1]) = 7.000000\n",
      "> Epoch 8: New best f([1 1 1 1 1 1 1 1]) = 8.000000\n"
     ]
    },
    {
     "data": {
      "text/plain": [
       "[<matplotlib.lines.Line2D at 0x7feefa5a52e0>]"
      ]
     },
     "execution_count": 263,
     "metadata": {},
     "output_type": "execute_result"
    },
    {
     "data": {
      "image/png": "[encoded data removed]",
      "text/plain": [
       "<Figure size 432x288 with 1 Axes>"
      ]
     },
     "metadata": {
      "needs_background": "light"
     },
     "output_type": "display_data"
    }
   ],
   "source": [
    "best_individual, best_eval, loss = genetic_algorithm(one_max, (0,1), 10, 8, 30, 0.9, 0.1)\n",
    "plt.plot(loss)"
   ]
  },
  {
   "cell_type": "markdown",
   "id": "0fe99d8f",
   "metadata": {},
   "source": [
    "## Apply genetic algorithm for knap-sack problem"
   ]
  },
  {
   "cell_type": "code",
   "execution_count": 264,
   "id": "22301124",
   "metadata": {},
   "outputs": [],
   "source": [
    "def knap_sack(individual):\n",
    "    if (sum(individual * weights) > capacity):\n",
    "        return 0\n",
    "    else:\n",
    "        return sum(individual * values)"
   ]
  },
  {
   "cell_type": "code",
   "execution_count": 282,
   "id": "81c9711b",
   "metadata": {},
   "outputs": [
    {
     "name": "stdout",
     "output_type": "stream",
     "text": [
      "> Epoch 0: New best f([1 1 0 1 0 1 1 0 1 0 0 0]) = 95.000000\n",
      "> Epoch 4: New best f([0 0 0 0 0 0 1 1 1 0 0 0]) = 101.000000\n"
     ]
    }
   ],
   "source": [
    "weights = np.array([1, 2, 5, 7, 10, 12, 15, 23, 32, 33, 35, 37])\n",
    "values =  np.array([1, 3, 6, 7, 12, 15, 25, 32, 44, 45, 47, 50])\n",
    "capacity = 70\n",
    "best_individual, best_eval, loss = genetic_algorithm(knap_sack, (0, 1), n_individual=100, n_gen = 12, n_epoch = 200, r_cross= 0.9, r_mutate=0.1)\n"
   ]
  },
  {
   "cell_type": "code",
   "execution_count": 283,
   "id": "e89f571d",
   "metadata": {},
   "outputs": [
    {
     "data": {
      "text/plain": [
       "[<matplotlib.lines.Line2D at 0x7feefa4fbdc0>]"
      ]
     },
     "execution_count": 283,
     "metadata": {},
     "output_type": "execute_result"
    },
    {
     "data": {
      "image/png": "[encoded data removed]",
      "text/plain": [
       "<Figure size 432x288 with 1 Axes>"
      ]
     },
     "metadata": {
      "needs_background": "light"
     },
     "output_type": "display_data"
    }
   ],
   "source": [
    "plt.plot(loss)"
   ]
  },
  {
   "cell_type": "markdown",
   "id": "d2f1b59c",
   "metadata": {},
   "source": [
    "## Aplly genetic algorithm for TSP problem"
   ]
  },
  {
   "cell_type": "code",
   "execution_count": 284,
   "id": "9930fc8e",
   "metadata": {},
   "outputs": [],
   "source": [
    "def TSP(individual):\n",
    "    if (len(individual)) != len(set(individual)):\n",
    "        return -100000\n",
    "    else:\n",
    "        obj_val = 0\n",
    "        for i in range (len(individual)):\n",
    "            obj_val += cities[individual[i - 1] - 1, individual[i] - 1]\n",
    "    return -obj_val"
   ]
  },
  {
   "cell_type": "code",
   "execution_count": 287,
   "id": "7c8b0c57",
   "metadata": {},
   "outputs": [
    {
     "name": "stdout",
     "output_type": "stream",
     "text": [
      "(5, 5)\n",
      "(6, 6)\n"
     ]
    }
   ],
   "source": [
    "## min score = 41\n",
    "data1 = np.array([[1000,12,1000,5,7],\n",
    "                [12,1000,14,1000,18],\n",
    "                [1000,14,1000,6,19],\n",
    "                [5,1000,6,1000,2],\n",
    "                [7,18,19,2,1000]])\n",
    "print(data1.shape)\n",
    "\n",
    "# min score = 104\n",
    "data2 = np.array([[9999,3,93,13,33,9],\n",
    "                [4,9999,77,42,21,16],\n",
    "                [45,17,9999,36,16,28],\n",
    "                [39,90,80,9999,56,7],\n",
    "                [28,46,88,33,9999,25],\n",
    "                [3,88,18,46,92,9999]])\n",
    "\n",
    "print(data2.shape)\n"
   ]
  },
  {
   "cell_type": "code",
   "execution_count": 304,
   "id": "8ac4dd01",
   "metadata": {},
   "outputs": [
    {
     "name": "stdout",
     "output_type": "stream",
     "text": [
      "> Epoch 0: New best f([3 4 2 1 5]) = -1044.000000\n",
      "> Epoch 0: New best f([3 5 4 1 2]) = -52.000000\n",
      "> Epoch 0: New best f([2 5 1 4 3]) = -50.000000\n",
      "> Epoch 2: New best f([2 1 5 4 3]) = -41.000000\n",
      "[2 1 5 4 3]\n"
     ]
    }
   ],
   "source": [
    "cities = data1\n",
    "best_individual, best_eval, loss = genetic_algorithm(TSP, (1, 5), 200, 5, 200, 0.9, 0.1)\n",
    "print(best_individual)"
   ]
  },
  {
   "cell_type": "code",
   "execution_count": 311,
   "metadata": {},
   "outputs": [
    {
     "name": "stdout",
     "output_type": "stream",
     "text": [
      "> Epoch 0: New best f([3 2 5 1 6 4]) = -201.000000\n",
      "> Epoch 0: New best f([3 5 1 2 4 6]) = -114.000000\n",
      "> Epoch 8: New best f([5 1 4 6 3 2]) = -104.000000\n",
      "[5 1 4 6 3 2]\n"
     ]
    }
   ],
   "source": [
    "cities = data2\n",
    "best_individual, best_eval, loss = genetic_algorithm(TSP, (1, 6), 200, 6, 200, 0.9, 0.1)\n",
    "print(best_individual)"
   ]
  },
  {
   "cell_type": "code",
   "execution_count": 312,
   "id": "357c80e3",
   "metadata": {},
   "outputs": [
    {
     "data": {
      "text/plain": [
       "[<matplotlib.lines.Line2D at 0x7feefa7b1b20>]"
      ]
     },
     "execution_count": 312,
     "metadata": {},
     "output_type": "execute_result"
    },
    {
     "data": {
      "image/png": "[encoded data removed]",
      "text/plain": [
       "<Figure size 432x288 with 1 Axes>"
      ]
     },
     "metadata": {
      "needs_background": "light"
     },
     "output_type": "display_data"
    }
   ],
   "source": [
    "plt.plot(loss)"
   ]
  }
 ],
 "metadata": {
  "kernelspec": {
   "display_name": "Python 3.9.0 64-bit",
   "language": "python",
   "name": "python3"
  },
  "language_info": {
   "codemirror_mode": {
    "name": "ipython",
    "version": 3
   },
   "file_extension": ".py",
   "mimetype": "text/x-python",
   "name": "python",
   "nbconvert_exporter": "python",
   "pygments_lexer": "ipython3",
   "version": "3.9.0"
  },
  "vscode": {
   "interpreter": {
    "hash": "aee8b7b246df8f9039afb4144a1f6fd8d2ca17a180786b69acc140d282b71a49"
   }
  }
 },
 "nbformat": 4,
 "nbformat_minor": 5
}
